{
  "nbformat": 4,
  "nbformat_minor": 0,
  "metadata": {
    "colab": {
      "name": "Read and Convert PDF to Audio",
      "provenance": [],
      "collapsed_sections": [],
      "authorship_tag": "ABX9TyP0YCVCDqTnmxnhvtcV/dWA"
    },
    "kernelspec": {
      "name": "python3",
      "display_name": "Python 3"
    },
    "language_info": {
      "name": "python"
    }
  },
  "cells": [
    {
      "cell_type": "code",
      "execution_count": null,
      "metadata": {
        "id": "jWeexOI1l0cg"
      },
      "outputs": [],
      "source": [
        "!pip install pdfminer.six"
      ]
    },
    {
      "cell_type": "code",
      "source": [
        "!pip install arxiv"
      ],
      "metadata": {
        "id": "VrFCXuPWnEsc"
      },
      "execution_count": null,
      "outputs": []
    },
    {
      "cell_type": "code",
      "source": [
        "!pip install gTTS"
      ],
      "metadata": {
        "id": "8_AGaiW_xY-a"
      },
      "execution_count": null,
      "outputs": []
    },
    {
      "cell_type": "code",
      "source": [
        "import pdfminer\n",
        "from pdfminer.high_level import extract_text, extract_pages\n",
        "from pdfminer.layout import LTTextContainer"
      ],
      "metadata": {
        "id": "JtywpHmtrEXG"
      },
      "execution_count": null,
      "outputs": []
    },
    {
      "cell_type": "code",
      "source": [
        "import arxiv"
      ],
      "metadata": {
        "id": "XmcjCVq72HYC"
      },
      "execution_count": null,
      "outputs": []
    },
    {
      "cell_type": "code",
      "source": [
        "from gtts import gTTS"
      ],
      "metadata": {
        "id": "1tXGcoEBw2RQ"
      },
      "execution_count": null,
      "outputs": []
    },
    {
      "cell_type": "markdown",
      "source": [
        "#Test"
      ],
      "metadata": {
        "id": "sDvJULe_2fCD"
      }
    },
    {
      "cell_type": "code",
      "source": [
        "search = arxiv.Search(id_list=[\"2203.09207\"])\n",
        "paper = next(search.results())\n",
        "print(paper.title)"
      ],
      "metadata": {
        "colab": {
          "base_uri": "https://localhost:8080/"
        },
        "id": "ANJ3iBCSpA8E",
        "outputId": "e8246543-0f3e-4cd7-a894-02eb4f51fff7"
      },
      "execution_count": null,
      "outputs": [
        {
          "output_type": "stream",
          "name": "stdout",
          "text": [
            "Simulation-Driven Training of Vision Transformers Enabling Metal Segmentation in X-Ray Images\n"
          ]
        }
      ]
    },
    {
      "cell_type": "code",
      "source": [
        "paper = next(arxiv.Search(id_list=[\"2203.09207\"]).results())\n",
        "# Download the PDF to the PWD with a default filename.\n",
        "paper.download_pdf(filename=(paper.title+\".pdf\"))"
      ],
      "metadata": {
        "id": "1RlXQxllpxOC"
      },
      "execution_count": null,
      "outputs": []
    },
    {
      "cell_type": "code",
      "source": [
        "text = extract_text(paper.title+'.pdf')"
      ],
      "metadata": {
        "id": "M-_mx-WWp72f"
      },
      "execution_count": null,
      "outputs": []
    },
    {
      "cell_type": "code",
      "source": [
        "text"
      ],
      "metadata": {
        "id": "o6g_4R4usI_K"
      },
      "execution_count": null,
      "outputs": []
    },
    {
      "cell_type": "code",
      "source": [
        "tts = gTTS(text)\n",
        "tts.save(paper.title+\".mp3\")"
      ],
      "metadata": {
        "id": "UFi0ot5CxfOn"
      },
      "execution_count": null,
      "outputs": []
    },
    {
      "cell_type": "code",
      "source": [
        "!pip install textract"
      ],
      "metadata": {
        "id": "-zyByHK31Zi0"
      },
      "execution_count": null,
      "outputs": []
    },
    {
      "cell_type": "code",
      "source": [
        "import textract\n",
        "text = textract.process(paper.title+'.pdf', method='pdfminer', encoding='utf-8')\n",
        "#text = text.encode(\"utf-8\")\n",
        "text"
      ],
      "metadata": {
        "id": "P-9w7zXt2De1"
      },
      "execution_count": null,
      "outputs": []
    },
    {
      "cell_type": "code",
      "source": [
        "text_dec = text.decode('utf-8')\n",
        "print(text_dec)"
      ],
      "metadata": {
        "id": "Gve73JHp51k3"
      },
      "execution_count": null,
      "outputs": []
    },
    {
      "cell_type": "code",
      "source": [
        "test = text_dec.splitlines()\n",
        "test"
      ],
      "metadata": {
        "id": "Wvox1zgT6I1j"
      },
      "execution_count": null,
      "outputs": []
    },
    {
      "cell_type": "code",
      "source": [
        "final = []\n",
        "final_text=\"\"\n",
        "for i in test:\n",
        "  if len(i)>1:\n",
        "    final.append(i)\n",
        "    final_text+= \" \"+i\n",
        "\n",
        "final"
      ],
      "metadata": {
        "id": "AC7v76oQ3HpB"
      },
      "execution_count": null,
      "outputs": []
    },
    {
      "cell_type": "code",
      "source": [
        "final_text"
      ],
      "metadata": {
        "id": "oEClm9pl7gB0"
      },
      "execution_count": null,
      "outputs": []
    },
    {
      "cell_type": "code",
      "source": [
        "tts = gTTS(final_text)\n",
        "tts.save(paper.title+\".mp3\")"
      ],
      "metadata": {
        "id": "n037ec0f8LHg"
      },
      "execution_count": null,
      "outputs": []
    },
    {
      "cell_type": "code",
      "source": [
        "print(len(list(extract_pages(paper.title+'.pdf'))))"
      ],
      "metadata": {
        "colab": {
          "base_uri": "https://localhost:8080/"
        },
        "id": "2iUDvYBpOluh",
        "outputId": "72c3471f-62d0-4b83-8605-f60ecb115ddd"
      },
      "execution_count": null,
      "outputs": [
        {
          "output_type": "stream",
          "name": "stdout",
          "text": [
            "10\n"
          ]
        }
      ]
    },
    {
      "cell_type": "code",
      "source": [
        "page = extract_pages('/content/GAN You Do the GAN GAN?.pdf', page_numbers=[0])\n",
        "page"
      ],
      "metadata": {
        "colab": {
          "base_uri": "https://localhost:8080/"
        },
        "id": "WMppoqhyOnaS",
        "outputId": "975c0a7a-5e04-407d-ae67-992462e19a40"
      },
      "execution_count": null,
      "outputs": [
        {
          "output_type": "execute_result",
          "data": {
            "text/plain": [
              "<generator object extract_pages at 0x7f8a64b24ed0>"
            ]
          },
          "metadata": {},
          "execution_count": 5
        }
      ]
    },
    {
      "cell_type": "code",
      "source": [
        "for page_layout in page:\n",
        "    for element in page_layout:\n",
        "        if isinstance(element, LTTextContainer):\n",
        "            print(element.get_text())"
      ],
      "metadata": {
        "id": "S8WyNeptRN3l"
      },
      "execution_count": null,
      "outputs": []
    },
    {
      "cell_type": "markdown",
      "source": [
        "#APIs"
      ],
      "metadata": {
        "id": "UhkPskqt2bN6"
      }
    },
    {
      "cell_type": "code",
      "source": [
        "def search(query=\"\", max_results=10, sort_by=\"Relevance\", sort_order=\"Descending\"):\n",
        "  \n",
        "  sr_by_dict = {\"Relevance\": arxiv.SortCriterion.Relevance, \"Last Updated Date\": arxiv.SortCriterion.LastUpdatedDate, \"Submitted Date\": arxiv.SortCriterion.SubmittedDate}\n",
        "  sr_or_dict = {\"Descending\": arxiv.SortOrder.Descending, \"Ascending\": arxiv.SortOrder.Ascending}\n",
        "    \n",
        "  search = arxiv.Search(\n",
        "                        query = query,\n",
        "                        max_results = max_results,\n",
        "                        sort_by = sr_by_dict[sort_by],\n",
        "                        sort_order =  sr_or_dict[sort_order])\n",
        "\n",
        "  #for result in search.results():\n",
        "    #print(result.title)\n",
        "\n",
        "  return search"
      ],
      "metadata": {
        "id": "4BpoeJP3Pyr-"
      },
      "execution_count": 33,
      "outputs": []
    },
    {
      "cell_type": "code",
      "source": [
        "search = search(query = \"cnn\", max_results=100, sort_by=\"Relevance\", sort_order=\"Descending\")\n",
        "for i in search.results():\n",
        "  id = i.entry_id.split(\"/\")\n",
        "  print(i.title+\" - \"+ str(id[-1]))"
      ],
      "metadata": {
        "colab": {
          "base_uri": "https://localhost:8080/"
        },
        "id": "BMCmoluE3uJV",
        "outputId": "0c2f7ab4-c3cb-4b87-fddd-dc705f590e8e"
      },
      "execution_count": 34,
      "outputs": [
        {
          "output_type": "stream",
          "name": "stdout",
          "text": [
            "Volumetric and Multi-View CNNs for Object Classification on 3D Data - 1604.03265v2\n",
            "Aspect-based Opinion Summarization with Convolutional Neural Networks - 1511.09128v1\n",
            "Wavelet Convolutional Neural Networks - 1805.08620v1\n",
            "Automatically Evolving CNN Architectures Based on Blocks - 1810.11875v2\n",
            "Extension of Convolutional Neural Network along Temporal and Vertical Directions for Precipitation Downscaling - 2112.06571v1\n",
            "The Effect of Class Definitions on the Transferability of Adversarial Attacks Against Forensic CNNs - 2101.11081v1\n",
            "Exploring the Design Space of Deep Convolutional Neural Networks at Large Scale - 1612.06519v1\n",
            "Interpreting Adversarially Trained Convolutional Neural Networks - 1905.09797v1\n",
            "Automatically designing CNN architectures using genetic algorithm for image classification - 1808.03818v3\n",
            "LEP-CNN: A Lightweight Edge Device Assisted Privacy-preserving CNN Inference Solution for IoT - 1901.04100v1\n",
            "Incremental Boosting Convolutional Neural Network for Facial Action Unit Recognition - 1707.05395v1\n",
            "Hierarchical Transfer Convolutional Neural Networks for Image Classification - 1804.00021v2\n",
            "On evaluating CNN representations for low resource medical image classification - 1903.11176v1\n",
            "When Face Recognition Meets with Deep Learning: an Evaluation of Convolutional Neural Networks for Face Recognition - 1504.02351v1\n",
            "ZynqNet: An FPGA-Accelerated Embedded Convolutional Neural Network - 2005.06892v1\n",
            "SpectralNET: Exploring Spatial-Spectral WaveletCNN for Hyperspectral Image Classification - 2104.00341v1\n",
            "TRk-CNN: Transferable Ranking-CNN for image classification of glaucoma, glaucoma suspect, and normal eyes - 1905.06509v1\n",
            "Convolutional Neural Networks for Text Categorization: Shallow Word-level vs. Deep Character-level - 1609.00718v1\n",
            "HybridSN: Exploring 3D-2D CNN Feature Hierarchy for Hyperspectral Image Classification - 1902.06701v3\n",
            "Latent Model Ensemble with Auto-localization - 1604.04333v2\n",
            "SPRING: A Sparsity-Aware Reduced-Precision Monolithic 3D CNN Accelerator Architecture for Training and Inference - 1909.00557v2\n",
            "TinyCNN: A Tiny Modular CNN Accelerator for Embedded FPGA - 1911.06777v1\n",
            "Assessing learned features of Deep Learning applied to EEG - 2111.04309v1\n",
            "Controlled-rearing studies of newborn chicks and deep neural networks - 2112.06106v1\n",
            "Deep Learning applied to NLP - 1703.03091v1\n",
            "Secrets in Computing Optical Flow by Convolutional Networks - 1710.01462v1\n",
            "Interpreting CNNs via Decision Trees - 1802.00121v2\n",
            "Unsupervised Learning of Neural Networks to Explain Neural Networks - 1805.07468v1\n",
            "Saliency Detection via Combining Region-Level and Pixel-Level Predictions with CNNs - 1608.05186v1\n",
            "Fine-grained Recognition in the Noisy Wild: Sensitivity Analysis of Convolutional Neural Networks Approaches - 1610.06756v1\n",
            "CNN-Based Signal Detection for Banded Linear Systems - 1809.03682v1\n",
            "Edge-Gated CNNs for Volumetric Semantic Segmentation of Medical Images - 2002.04207v1\n",
            "Exploiting Vulnerability of Pooling in Convolutional Neural Networks by Strict Layer-Output Manipulation for Adversarial Attacks - 2012.11413v1\n",
            "Deep CNN-Based Channel Estimation for mmWave Massive MIMO Systems - 1904.06761v2\n",
            "Interpretable Convolutional Neural Networks - 1710.00935v4\n",
            "Ultra Power-Efficient CNN Domain Specific Accelerator with 9.3TOPS/Watt for Mobile and Embedded Applications - 1805.00361v1\n",
            "CNN Explainer: Learning Convolutional Neural Networks with Interactive Visualization - 2004.15004v3\n",
            "Exploring Deep Hybrid Tensor-to-Vector Network Architectures for Regression Based Speech Enhancement - 2007.13024v2\n",
            "Systolic-CNN: An OpenCL-defined Scalable Run-time-flexible FPGA Accelerator Architecture for Accelerating Convolutional Neural Network Inference in Cloud/Edge Computing - 2012.03177v1\n",
            "Contextually Guided Convolutional Neural Networks for Learning Most Transferable Representations - 2103.01566v2\n",
            "Revitalizing CNN Attentions via Transformers in Self-Supervised Visual Representation Learning - 2110.05340v1\n",
            "Foveation-based Mechanisms Alleviate Adversarial Examples - 1511.06292v3\n",
            "Optimization on Product Submanifolds of Convolution Kernels - 1701.06123v2\n",
            "Wavelet Convolutional Neural Networks for Texture Classification - 1707.07394v1\n",
            "Accelerating the Evolution of Convolutional Neural Networks with Node-Level Mutations and Epigenetic Weight Initialization - 1811.08286v1\n",
            "Short-segment heart sound classification using an ensemble of deep convolutional neural networks - 1810.11573v1\n",
            "Maximizing CNN Accelerator Efficiency Through Resource Partitioning - 1607.00064v2\n",
            "Can CNN Construct Highly Accurate Models Efficiently for High-Dimensional Problems in Complex Product Designs? - 1712.01639v3\n",
            "Geometric Operator Convolutional Neural Network - 1809.01016v1\n",
            "Unsupervised Learning of Neural Networks to Explain Neural Networks (extended abstract) - 1901.07538v1\n",
            "HalluciNet-ing Spatiotemporal Representations Using a 2D-CNN - 1912.04430v3\n",
            "Fixed smooth convolutional layer for avoiding checkerboard artifacts in CNNs - 2002.02117v1\n",
            "Rethinking 1D-CNN for Time Series Classification: A Stronger Baseline - 2002.10061v2\n",
            "One-pixel Signature: Characterizing CNN Models for Backdoor Detection - 2008.07711v1\n",
            "Revisiting convolutional neural network on graphs with polynomial approximations of Laplace-Beltrami spectral filtering - 2010.13269v1\n",
            "MGIC: Multigrid-in-Channels Neural Network Architectures - 2011.09128v3\n",
            "CAA-Net: Conditional Atrous CNNs with Attention for Explainable Device-robust Acoustic Scene Classification - 2011.09299v1\n",
            "Convolutional Neural Network with Pruning Method for Handwritten Digit Recognition - 2101.05996v1\n",
            "Towards glass-box CNNs - 2101.10443v1\n",
            "Hyperspectral Image Classification: Artifacts of Dimension Reduction on Hybrid CNN - 2101.10532v1\n",
            "A Front-End for Dense Monocular SLAM using a Learned Outlier Mask Prior - 2104.00562v1\n",
            "ATRIA: A Bit-Parallel Stochastic Arithmetic Based Accelerator for In-DRAM CNN Processing - 2105.12781v1\n",
            "Continual 3D Convolutional Neural Networks for Real-time Processing of Videos - 2106.00050v2\n",
            "ReaLPrune: ReRAM Crossbar-aware Lottery Ticket Pruned CNNs - 2111.09272v2\n",
            "VGQ-CNN: Moving Beyond Fixed Cameras and Top-Grasps for Grasp Quality Prediction - 2203.04874v1\n",
            "Analyzing the Performance of Multilayer Neural Networks for Object Recognition - 1407.1610v2\n",
            "Towards CNN Map Compression for camera relocalisation - 1703.00845v1\n",
            "Comparative Study of CNN and RNN for Natural Language Processing - 1702.01923v1\n",
            "Controlled CNN-based Sequence Labeling for Aspect Extraction - 1905.06407v2\n",
            "How Secure is Distributed Convolutional Neural Network on IoT Edge Devices? - 2006.09276v1\n",
            "Decoding CNN based Object Classifier Using Visualization - 2007.07482v1\n",
            "Interpretable Compositional Convolutional Neural Networks - 2107.04474v1\n",
            "Snowflake: A Model Agnostic Accelerator for Deep Convolutional Neural Networks - 1708.02579v1\n",
            "Scene recognition with CNNs: objects, scales and dataset bias - 1801.06867v1\n",
            "Learning Deep Convolutional Networks for Demosaicing - 1802.03769v1\n",
            "Resource-Scalable CNN Synthesis for IoT Applications - 1901.00738v1\n",
            "DoPa: A Comprehensive CNN Detection Methodology against Physical Adversarial Attacks - 1905.08790v4\n",
            "Optimization of Convolutional Neural Network Using the Linearly Decreasing Weight Particle Swarm Optimization - 2001.05670v2\n",
            "Homography Estimation with Convolutional Neural Networks Under Conditions of Variance - 2010.01041v2\n",
            "Evolving Character-level Convolutional Neural Networks for Text Classification - 2012.02223v1\n",
            "A Closer Look at Fourier Spectrum Discrepancies for CNN-generated Images Detection - 2103.17195v1\n",
            "Hierarchical Severity Staging of Anterior Cruciate Ligament Injuries using Deep Learning with MRI Images - 2003.09089v2\n",
            "Perspectives for Monte Carlo simulations on the CNN Universal Machine - 0603121v1\n",
            "Stochastic Simulations on the Cellular Wave Computers - 0605108v1\n",
            "Cellular neural networks for NP-hard optimization problems - 0802.1150v1\n",
            "Multi-scale Orderless Pooling of Deep Convolutional Activation Features - 1403.1840v3\n",
            "Feature Representation in Convolutional Neural Networks - 1507.02313v1\n",
            "Classifying and Segmenting Microscopy Images Using Convolutional Multiple Instance Learning - 1511.05286v1\n",
            "Sparse Factorization Layers for Neural Networks with Limited Supervision - 1612.04468v1\n",
            "An Automated CNN Recommendation System for Image Classification Tasks - 1612.08484v1\n",
            "DeepVisage: Making face recognition simple yet with powerful generalization skills - 1703.08388v2\n",
            "Mixture of Counting CNNs: Adaptive Integration of CNNs Specialized to Specific Appearance for Crowd Counting - 1703.09393v1\n",
            "Grouped Convolutional Neural Networks for Multivariate Time Series - 1703.09938v4\n",
            "Sparse arrays of signatures for online character recognition - 1308.0371v2\n",
            "Learning FRAME Models Using CNN Filters - 1509.08379v3\n",
            "Learning scale-variant and scale-invariant features for deep image classification - 1602.01255v2\n",
            "Convolution with Logarithmic Filter Groups for Efficient Shallow CNN - 1707.09855v2\n",
            "Deep Learning for Target Classification from SAR Imagery: Data Augmentation and Translation Invariance - 1708.07920v1\n",
            "SCA-CNN: Spatial and Channel-wise Attention in Convolutional Networks for Image Captioning - 1611.05594v2\n",
            "Mini-batch Serialization: CNN Training with Inter-layer Data Reuse - 1810.00307v4\n"
          ]
        }
      ]
    },
    {
      "cell_type": "code",
      "source": [
        "def get_paper(paper = \"GAN You Do the GAN GAN? - 1904.00724v1\"):\n",
        "  id = paper.split(\" - \")\n",
        "  paper = next(arxiv.Search(id_list=[id[-1]]).results())\n",
        "  paper.download_pdf(filename=(paper.title+\".pdf\"))\n",
        "\n",
        "  return(paper)"
      ],
      "metadata": {
        "id": "BXS1m0hS4wq8"
      },
      "execution_count": null,
      "outputs": []
    },
    {
      "cell_type": "code",
      "source": [
        "paper = get_paper('GAN You Do the GAN GAN? - 1904.00724v1')\n",
        "paper.title"
      ],
      "metadata": {
        "colab": {
          "base_uri": "https://localhost:8080/",
          "height": 35
        },
        "id": "6LGt2N1oBQ70",
        "outputId": "7205f43c-2af0-4465-d8e6-3918671ce766"
      },
      "execution_count": null,
      "outputs": [
        {
          "output_type": "execute_result",
          "data": {
            "text/plain": [
              "'GAN You Do the GAN GAN?'"
            ],
            "application/vnd.google.colaboratory.intrinsic+json": {
              "type": "string"
            }
          },
          "metadata": {},
          "execution_count": 28
        }
      ]
    },
    {
      "cell_type": "code",
      "source": [
        "def get_total_pages(paper):\n",
        "  return(len(list(extract_pages(paper.title+'.pdf'))))"
      ],
      "metadata": {
        "id": "nFz6Vo9aBVX6"
      },
      "execution_count": null,
      "outputs": []
    },
    {
      "cell_type": "code",
      "source": [
        "total_page = get_total_pages(paper)\n",
        "total_page"
      ],
      "metadata": {
        "colab": {
          "base_uri": "https://localhost:8080/"
        },
        "id": "hBsFNRY1DIIC",
        "outputId": "ded9bf53-9a1e-4891-da25-0aa2158f5dca"
      },
      "execution_count": null,
      "outputs": [
        {
          "output_type": "execute_result",
          "data": {
            "text/plain": [
              "3"
            ]
          },
          "metadata": {},
          "execution_count": 30
        }
      ]
    },
    {
      "cell_type": "code",
      "source": [
        "def get_pages(paper, start_page=0, end_page=total_page):\n",
        "  page_number = []\n",
        "  for i in range(start_page, end_page):\n",
        "    page_number.append(i)\n",
        "  print(page_number)\n",
        "  filename =str(paper.title)+'.pdf'\n",
        "  page = extract_pages(filename, page_numbers=page_number)\n",
        "\n",
        "  return page"
      ],
      "metadata": {
        "id": "yPCxwXi3DNJh"
      },
      "execution_count": null,
      "outputs": []
    },
    {
      "cell_type": "code",
      "source": [
        "pages = get_pages(paper)\n",
        "\n",
        "for page_layout in pages:\n",
        "    for element in page_layout:\n",
        "        if isinstance(element, LTTextContainer):\n",
        "            print(element.get_text())"
      ],
      "metadata": {
        "id": "TJ6aX4F0HEIR"
      },
      "execution_count": null,
      "outputs": []
    },
    {
      "cell_type": "code",
      "source": [
        "def pre_process():"
      ],
      "metadata": {
        "id": "8A8fJ3lYHRD2"
      },
      "execution_count": null,
      "outputs": []
    },
    {
      "cell_type": "code",
      "source": [
        "def text_to_speech():"
      ],
      "metadata": {
        "id": "f6DeBDiiK1vE"
      },
      "execution_count": null,
      "outputs": []
    }
  ]
}